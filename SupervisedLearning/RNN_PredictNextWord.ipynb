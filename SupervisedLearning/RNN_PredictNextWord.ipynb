{
  "nbformat": 4,
  "nbformat_minor": 0,
  "metadata": {
    "colab": {
      "name": "RNN_Ex1_Tf_PredictNextWord.ipynb",
      "version": "0.3.2",
      "provenance": [],
      "collapsed_sections": [],
      "include_colab_link": true
    },
    "kernelspec": {
      "name": "python3",
      "display_name": "Python 3"
    },
    "accelerator": "GPU"
  },
  "cells": [
    {
      "cell_type": "markdown",
      "metadata": {
        "id": "view-in-github",
        "colab_type": "text"
      },
      "source": [
        "[View in Colaboratory](https://colab.research.google.com/github/GeniGaus/100DaysOfMLCode/blob/master/RNN_PredictNextWord.ipynb)"
      ]
    },
    {
      "metadata": {
        "id": "v9CyXka-kplG",
        "colab_type": "text"
      },
      "cell_type": "markdown",
      "source": [
        "## LSTM RNN using Tensorflow\n",
        "\n",
        "### Network structure\n",
        "---\n",
        "This network takes previous 3 words as input and predicts the next word.\n",
        "\n",
        "![](https://www.codeproject.com/KB/AI/1237557/65a7c3f6-4110-4228-a605-11cb45dbf246.Png)"
      ]
    },
    {
      "metadata": {
        "id": "CZBQww7eIrew",
        "colab_type": "code",
        "colab": {}
      },
      "cell_type": "code",
      "source": [
        "## setup data\n",
        "\n",
        "import numpy as np\n",
        "import collections\n",
        "\n",
        "class DataHandler:\n",
        "  \n",
        "  # reads data and converts into array of tokens\n",
        "  def read_data(self, text, isFile=False):\n",
        "    if not isFile:\n",
        "      words = text.split()\n",
        "      words = np.array(words)\n",
        "      words = np.reshape(words,[-1,])\n",
        "      return words\n",
        "  \n",
        "  # creates a dictionary of words based on most common as appearing in data\n",
        "  def build_dataset(self, text):\n",
        "    count = collections.Counter(text).most_common()\n",
        "    word_dict = dict()\n",
        "    for word,_ in count:\n",
        "      word_dict[word] = len(word_dict)\n",
        "    word_dict_rev = dict(zip(word_dict.values(),word_dict.keys()))\n",
        "    return word_dict, word_dict_rev"
      ],
      "execution_count": 0,
      "outputs": []
    },
    {
      "metadata": {
        "id": "-DNG4aJhJPgM",
        "colab_type": "code",
        "colab": {}
      },
      "cell_type": "code",
      "source": [
        "# test data\n",
        "\n",
        "text = \"In a sense , people are our proper occupation . Our job is to do them good and put up with them . But when they obstruct our proper tasks , they become irrelevant to us — like sun , wind , animals . Our actions may be impeded by them , but there can be no impeding our intentions or our dispositions . Because we can accommodate and adapt . The mind adapts and converts to its own purposes the obstacle to our acting . The impediment to action advances action . What stands in the way becomes the way . \"\n",
        "\n",
        "#dh = DataHandler()\n",
        "#print(dh.read_data(text))\n",
        "#dh.build_dataset(dh.read_data(text))"
      ],
      "execution_count": 0,
      "outputs": []
    },
    {
      "metadata": {
        "id": "neJtGN-NMhaU",
        "colab_type": "code",
        "colab": {}
      },
      "cell_type": "code",
      "source": [
        "## create RNN with LSTM using tensorflow\n",
        "import tensorflow as tf\n",
        "from tensorflow.contrib import rnn\n",
        "\n",
        "class RNNGenerator:\n",
        "  \n",
        "  def create_LSTM(self,inputs,weights,biases,seq_size,num_units):\n",
        "    '''\n",
        "    \n",
        "    '''\n",
        "    # converts input text into rows with seq_size(=3 here) tokens\n",
        "    inputs = tf.reshape(inputs,[-1,seq_size])\n",
        "    \n",
        "    # converts each row with with seq_size(=3 here) columns\n",
        "    inputs = tf.split(inputs, seq_size, 1)\n",
        "    \n",
        "    # creates LSTM with 2 layers\n",
        "    rnn_model = rnn.MultiRNNCell([rnn.BasicLSTMCell(num_units),rnn.BasicLSTMCell(num_units)])\n",
        "    \n",
        "    # generates predictions\n",
        "    outputs, states = rnn.static_rnn(rnn_model, inputs, dtype=tf.float32)\n",
        "    \n",
        "    return tf.matmul(outputs[-1],weights['out']) + biases['out']"
      ],
      "execution_count": 0,
      "outputs": []
    },
    {
      "metadata": {
        "id": "9v6vs8G8pCg6",
        "colab_type": "text"
      },
      "cell_type": "markdown",
      "source": [
        "------\n",
        "\n",
        "Creates a tensorflow session to generate the environment in which  the model runs"
      ]
    },
    {
      "metadata": {
        "id": "gTmygn8So2Ge",
        "colab_type": "code",
        "colab": {}
      },
      "cell_type": "code",
      "source": [
        "import random\n",
        "import numpy as np\n",
        "\n",
        "class SessionRunner:\n",
        "  \n",
        "  training_iters = 50000\n",
        "  \n",
        "  def __init__(self,optimizer,accuracy,cost,lstm,initializer,writer):\n",
        "    self.optimizer = optimizer\n",
        "    self.accuracy = accuracy\n",
        "    self.cost = cost\n",
        "    self.lstm = lstm\n",
        "    self.initializer = initializer\n",
        "    self.writer = writer\n",
        "  \n",
        "  def run_session(self,x,y,n_input,dic,rev_dic,training_data):\n",
        "    with tf.Session() as session:\n",
        "      session.run(self.initializer)\n",
        "      \n",
        "      step = 0\n",
        "      offset = random.randint(0,n_input+1)\n",
        "      acc_total = 0 #total accuracy\n",
        "      \n",
        "      self.writer.add_graph(session.graph)\n",
        "      \n",
        "      while step < self.training_iters:\n",
        "        if offset > (len(training_data) - n_input - 1):\n",
        "          offset = random.randint(0,n_input+1)\n",
        "        \n",
        "        # get indexes of particular token\n",
        "        sym_in_keys = [dic[str(training_data[i])] for i in range(offset,offset+n_input)]\n",
        "        sym_in_keys = np.reshape(sym_in_keys, [-1,n_input,1])\n",
        "        \n",
        "        # create one hot encoding of the output\n",
        "        sym_out_onehot = np.zeros([len(dic)], dtype=float)\n",
        "        sym_out_onehot[dic[str(training_data[offset+n_input])]] = 1.0\n",
        "        sym_out_onehot = np.reshape(sym_out_onehot, [1,-1])\n",
        "        \n",
        "        _, acc, loss, onehot_pred = session.run([self.optimizer,self.accuracy,self.cost,self.lstm], feed_dict={x: sym_in_keys, y: sym_out_onehot})\n",
        "        acc_total += acc\n",
        "        \n",
        "        ## see training output per 1000 training\n",
        "        if(step+1)%1000 == 0:\n",
        "          print(\"Iteration = \" + str(step + 1) + \", Average Accuracy= \" + \"{:.2f}%\".format(100*acc_total/1000))\n",
        "          acc_total = 0;\n",
        "        \n",
        "        step += 1\n",
        "        offset += (n_input+1)"
      ],
      "execution_count": 0,
      "outputs": []
    },
    {
      "metadata": {
        "id": "L4uTM6aY0VrN",
        "colab_type": "text"
      },
      "cell_type": "markdown",
      "source": [
        "#### Executing LSTM Model\n",
        "-----------\n"
      ]
    },
    {
      "metadata": {
        "id": "IrKm2K2W0bqJ",
        "colab_type": "code",
        "colab": {
          "base_uri": "https://localhost:8080/",
          "height": 1074
        },
        "outputId": "75607c0c-ef7e-43b7-cdca-584cbcde725e"
      },
      "cell_type": "code",
      "source": [
        "## logging results\n",
        "log_path = '/output/tensorflow/logfile/'\n",
        "writer = tf.summary.FileWriter(log_path)\n",
        "\n",
        "## Load and prepare data\n",
        "dh = DataHandler()\n",
        "training_data = dh.read_data(text)\n",
        "dic, rev_dic = dh.build_dataset(training_data)\n",
        "\n",
        "## tensorflow graph\n",
        "n_input = 3\n",
        "n_units = 512\n",
        "\n",
        "# creating placeholders(starting nodes of tensorflow computational graph) for x and y\n",
        "x = tf.placeholder(\"float\", [None,n_input,1])\n",
        "y = tf.placeholder(\"float\", [None,len(dic)])\n",
        "\n",
        "# creating variables for RNN output weights and biases\n",
        "weights = {\n",
        "    'out': tf.Variable(tf.random_normal([n_units,len(dic)]))\n",
        "}\n",
        "biases = {\n",
        "    'out': tf.Variable(tf.random_normal([len(dic)]))\n",
        "}\n",
        "\n",
        "## create model\n",
        "rnn_generator = RNNGenerator()\n",
        "lstm = rnn_generator.create_LSTM(x,weights,biases,n_input,n_units)\n",
        "\n",
        "# create loss and optimizer\n",
        "cost = tf.reduce_mean(tf.nn.softmax_cross_entropy_with_logits(logits=lstm, labels=y))\n",
        "optimizer = tf.train.RMSPropOptimizer(learning_rate=0.001).minimize(cost)\n",
        "\n",
        "# model evaluation\n",
        "correct_pred = tf.equal(tf.argmax(lstm,1),tf.argmax(y,1))\n",
        "accuracy = tf.reduce_mean(tf.cast(correct_pred,tf.float32))\n",
        "\n",
        "# initializing variables\n",
        "initializer = tf.global_variables_initializer()\n",
        "\n",
        "# run session\n",
        "session_runner = SessionRunner(optimizer, accuracy, cost, lstm, initializer, writer)\n",
        "session_runner.run_session(x,y,n_input,dic,rev_dic,training_data)"
      ],
      "execution_count": 5,
      "outputs": [
        {
          "output_type": "stream",
          "text": [
            "WARNING:tensorflow:From <ipython-input-3-676515e1f250>:17: BasicLSTMCell.__init__ (from tensorflow.python.ops.rnn_cell_impl) is deprecated and will be removed in a future version.\n",
            "Instructions for updating:\n",
            "This class is deprecated, please use tf.nn.rnn_cell.LSTMCell, which supports all the feature this cell currently has. Please replace the existing code with tf.nn.rnn_cell.LSTMCell(name='basic_lstm_cell').\n",
            "WARNING:tensorflow:From <ipython-input-5-ccb2a873098a>:30: softmax_cross_entropy_with_logits (from tensorflow.python.ops.nn_ops) is deprecated and will be removed in a future version.\n",
            "Instructions for updating:\n",
            "\n",
            "Future major versions of TensorFlow will allow gradients to flow\n",
            "into the labels input on backprop by default.\n",
            "\n",
            "See `tf.nn.softmax_cross_entropy_with_logits_v2`.\n",
            "\n",
            "Iteration = 1000, Average Accuracy= 16.50%\n",
            "Iteration = 2000, Average Accuracy= 46.50%\n",
            "Iteration = 3000, Average Accuracy= 63.70%\n",
            "Iteration = 4000, Average Accuracy= 57.40%\n",
            "Iteration = 5000, Average Accuracy= 67.70%\n",
            "Iteration = 6000, Average Accuracy= 68.60%\n",
            "Iteration = 7000, Average Accuracy= 69.30%\n",
            "Iteration = 8000, Average Accuracy= 74.40%\n",
            "Iteration = 9000, Average Accuracy= 74.00%\n",
            "Iteration = 10000, Average Accuracy= 82.50%\n",
            "Iteration = 11000, Average Accuracy= 85.20%\n",
            "Iteration = 12000, Average Accuracy= 84.40%\n",
            "Iteration = 13000, Average Accuracy= 88.30%\n",
            "Iteration = 14000, Average Accuracy= 88.00%\n",
            "Iteration = 15000, Average Accuracy= 88.10%\n",
            "Iteration = 16000, Average Accuracy= 87.00%\n",
            "Iteration = 17000, Average Accuracy= 86.30%\n",
            "Iteration = 18000, Average Accuracy= 85.00%\n",
            "Iteration = 19000, Average Accuracy= 88.00%\n",
            "Iteration = 20000, Average Accuracy= 88.20%\n",
            "Iteration = 21000, Average Accuracy= 89.10%\n",
            "Iteration = 22000, Average Accuracy= 89.40%\n",
            "Iteration = 23000, Average Accuracy= 87.80%\n",
            "Iteration = 24000, Average Accuracy= 90.60%\n",
            "Iteration = 25000, Average Accuracy= 90.00%\n",
            "Iteration = 26000, Average Accuracy= 87.90%\n",
            "Iteration = 27000, Average Accuracy= 86.70%\n",
            "Iteration = 28000, Average Accuracy= 86.70%\n",
            "Iteration = 29000, Average Accuracy= 90.10%\n",
            "Iteration = 30000, Average Accuracy= 91.30%\n",
            "Iteration = 31000, Average Accuracy= 90.90%\n",
            "Iteration = 32000, Average Accuracy= 91.20%\n",
            "Iteration = 33000, Average Accuracy= 89.90%\n",
            "Iteration = 34000, Average Accuracy= 92.00%\n",
            "Iteration = 35000, Average Accuracy= 91.30%\n",
            "Iteration = 36000, Average Accuracy= 90.80%\n",
            "Iteration = 37000, Average Accuracy= 91.50%\n",
            "Iteration = 38000, Average Accuracy= 88.50%\n",
            "Iteration = 39000, Average Accuracy= 87.90%\n",
            "Iteration = 40000, Average Accuracy= 93.30%\n",
            "Iteration = 41000, Average Accuracy= 92.80%\n",
            "Iteration = 42000, Average Accuracy= 92.70%\n",
            "Iteration = 43000, Average Accuracy= 92.30%\n",
            "Iteration = 44000, Average Accuracy= 92.50%\n",
            "Iteration = 45000, Average Accuracy= 90.20%\n",
            "Iteration = 46000, Average Accuracy= 92.30%\n",
            "Iteration = 47000, Average Accuracy= 90.80%\n",
            "Iteration = 48000, Average Accuracy= 92.40%\n",
            "Iteration = 49000, Average Accuracy= 90.40%\n",
            "Iteration = 50000, Average Accuracy= 93.10%\n"
          ],
          "name": "stdout"
        }
      ]
    }
  ]
}
