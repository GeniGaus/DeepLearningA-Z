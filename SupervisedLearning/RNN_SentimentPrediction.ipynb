{
  "nbformat": 4,
  "nbformat_minor": 0,
  "metadata": {
    "colab": {
      "name": "RNN_Ex_2_Keras_SentimentPrediction.ipynb",
      "version": "0.3.2",
      "provenance": [],
      "collapsed_sections": [],
      "include_colab_link": true
    },
    "kernelspec": {
      "name": "python3",
      "display_name": "Python 3"
    },
    "accelerator": "GPU"
  },
  "cells": [
    {
      "cell_type": "markdown",
      "metadata": {
        "id": "view-in-github",
        "colab_type": "text"
      },
      "source": [
        "[View in Colaboratory](https://colab.research.google.com/github/GeniGaus/100DaysOfMLCode/blob/master/RNN_SentimentPrediction.ipynb)"
      ]
    },
    {
      "metadata": {
        "id": "o-c15lT6J0FE",
        "colab_type": "text"
      },
      "cell_type": "markdown",
      "source": [
        "## Predict sentiment using IMDB movie review database\n",
        "------------------\n",
        "\n",
        "Embedding layer is used to represent words or tokens as tensors. \n",
        "\n",
        "Input dimension = vocabulary size\n",
        "\n",
        "input length = no. of tokens given at a time"
      ]
    },
    {
      "metadata": {
        "id": "3rzamgMdJs9Z",
        "colab_type": "code",
        "colab": {
          "base_uri": "https://localhost:8080/",
          "height": 136
        },
        "outputId": "95e84340-4b40-45f3-d868-e9983105b42c"
      },
      "cell_type": "code",
      "source": [
        "!pip install keras\n",
        "import keras\n",
        "from keras.preprocessing import sequence\n",
        "from keras.models import Sequential\n",
        "from keras.layers import Dense,LSTM,Dropout,Embedding\n",
        "from keras.datasets import imdb"
      ],
      "execution_count": 0,
      "outputs": [
        {
          "output_type": "stream",
          "text": [
            "Requirement already satisfied: keras in /usr/local/lib/python3.6/dist-packages (2.1.6)\n",
            "Requirement already satisfied: six>=1.9.0 in /usr/local/lib/python3.6/dist-packages (from keras) (1.11.0)\n",
            "Requirement already satisfied: numpy>=1.9.1 in /usr/local/lib/python3.6/dist-packages (from keras) (1.14.6)\n",
            "Requirement already satisfied: scipy>=0.14 in /usr/local/lib/python3.6/dist-packages (from keras) (0.19.1)\n",
            "Requirement already satisfied: h5py in /usr/local/lib/python3.6/dist-packages (from keras) (2.8.0)\n",
            "Requirement already satisfied: pyyaml in /usr/local/lib/python3.6/dist-packages (from keras) (3.13)\n"
          ],
          "name": "stdout"
        },
        {
          "output_type": "stream",
          "text": [
            "Using TensorFlow backend.\n"
          ],
          "name": "stderr"
        }
      ]
    },
    {
      "metadata": {
        "id": "Q5b4I8miW1_-",
        "colab_type": "code",
        "colab": {}
      },
      "cell_type": "code",
      "source": [
        "num_words = 1000\n",
        "(X_train,y_train),(X_test,y_test) = imdb.load_data(num_words=num_words)"
      ],
      "execution_count": 0,
      "outputs": []
    },
    {
      "metadata": {
        "id": "2QsAwLwLaY5R",
        "colab_type": "code",
        "colab": {
          "base_uri": "https://localhost:8080/",
          "height": 34
        },
        "outputId": "3fa1b219-34d3-4858-f871-1489d02a57ce"
      },
      "cell_type": "code",
      "source": [
        "print(X_train.shape,y_train.shape)"
      ],
      "execution_count": 0,
      "outputs": [
        {
          "output_type": "stream",
          "text": [
            "(25000,) (25000,)\n"
          ],
          "name": "stdout"
        }
      ]
    },
    {
      "metadata": {
        "id": "U1WmT6tvXmxf",
        "colab_type": "code",
        "colab": {}
      },
      "cell_type": "code",
      "source": [
        "X_train = sequence.pad_sequences(X_train,maxlen=200)\n",
        "X_test = sequence.pad_sequences(X_test,maxlen=200)"
      ],
      "execution_count": 0,
      "outputs": []
    },
    {
      "metadata": {
        "id": "djZZfM2_a2sJ",
        "colab_type": "code",
        "colab": {
          "base_uri": "https://localhost:8080/",
          "height": 34
        },
        "outputId": "e10fb790-2a2f-453f-845a-a05bf300a9c5"
      },
      "cell_type": "code",
      "source": [
        "print(X_train.shape,y_train.shape)"
      ],
      "execution_count": 0,
      "outputs": [
        {
          "output_type": "stream",
          "text": [
            "(25000, 200) (25000,)\n"
          ],
          "name": "stdout"
        }
      ]
    },
    {
      "metadata": {
        "id": "nWBMPDg1YBzh",
        "colab_type": "text"
      },
      "cell_type": "markdown",
      "source": [
        "### LSTM Network Architecture using Keras\n",
        "------------------\n"
      ]
    },
    {
      "metadata": {
        "id": "S4WEcE4vYA0Z",
        "colab_type": "code",
        "colab": {}
      },
      "cell_type": "code",
      "source": [
        "model = Sequential()\n",
        "model.add(Embedding(num_words,50,input_length=200))\n",
        "model.add(Dropout(0.2))\n",
        "model.add(LSTM(100,dropout=0.2,recurrent_dropout=0.2))\n",
        "model.add(Dense(256))\n",
        "model.add(Dropout(0.2))\n",
        "model.add(Dense(1,activation='sigmoid'))"
      ],
      "execution_count": 0,
      "outputs": []
    },
    {
      "metadata": {
        "id": "xjw4dzqvaAq_",
        "colab_type": "code",
        "colab": {
          "base_uri": "https://localhost:8080/",
          "height": 340
        },
        "outputId": "0d4932db-0e08-4a8d-bcb7-d737cbfd0aa1"
      },
      "cell_type": "code",
      "source": [
        "model.summary()"
      ],
      "execution_count": 0,
      "outputs": [
        {
          "output_type": "stream",
          "text": [
            "_________________________________________________________________\n",
            "Layer (type)                 Output Shape              Param #   \n",
            "=================================================================\n",
            "embedding_3 (Embedding)      (None, 200, 50)           50000     \n",
            "_________________________________________________________________\n",
            "dropout_4 (Dropout)          (None, 200, 50)           0         \n",
            "_________________________________________________________________\n",
            "lstm_3 (LSTM)                (None, 100)               60400     \n",
            "_________________________________________________________________\n",
            "dense_5 (Dense)              (None, 256)               25856     \n",
            "_________________________________________________________________\n",
            "dropout_5 (Dropout)          (None, 256)               0         \n",
            "_________________________________________________________________\n",
            "dense_6 (Dense)              (None, 1)                 257       \n",
            "=================================================================\n",
            "Total params: 136,513\n",
            "Trainable params: 136,513\n",
            "Non-trainable params: 0\n",
            "_________________________________________________________________\n"
          ],
          "name": "stdout"
        }
      ]
    },
    {
      "metadata": {
        "id": "xHTGLoSKaC7_",
        "colab_type": "code",
        "colab": {}
      },
      "cell_type": "code",
      "source": [
        "model.compile(loss='binary_crossentropy',optimizer='adam',metrics=['accuracy'])"
      ],
      "execution_count": 0,
      "outputs": []
    },
    {
      "metadata": {
        "id": "fDmhxoqUbCkd",
        "colab_type": "code",
        "colab": {
          "base_uri": "https://localhost:8080/",
          "height": 391
        },
        "outputId": "fbb298ce-ec1c-4ed5-db15-bb5f469b5465"
      },
      "cell_type": "code",
      "source": [
        "model.fit(X_train,y_train,epochs=10,validation_data=(X_test,y_test))"
      ],
      "execution_count": 0,
      "outputs": [
        {
          "output_type": "stream",
          "text": [
            "Train on 25000 samples, validate on 25000 samples\n",
            "Epoch 1/10\n",
            "25000/25000 [==============================] - 549s 22ms/step - loss: 0.5266 - acc: 0.7320 - val_loss: 0.5480 - val_acc: 0.7186\n",
            "Epoch 2/10\n",
            "25000/25000 [==============================] - 549s 22ms/step - loss: 0.4555 - acc: 0.7924 - val_loss: 0.4196 - val_acc: 0.8154\n",
            "Epoch 3/10\n",
            "25000/25000 [==============================] - 549s 22ms/step - loss: 0.4325 - acc: 0.8059 - val_loss: 0.3865 - val_acc: 0.8350\n",
            "Epoch 4/10\n",
            "25000/25000 [==============================] - 549s 22ms/step - loss: 0.4016 - acc: 0.8256 - val_loss: 0.4219 - val_acc: 0.8103\n",
            "Epoch 5/10\n",
            "25000/25000 [==============================] - 552s 22ms/step - loss: 0.3923 - acc: 0.8318 - val_loss: 0.4068 - val_acc: 0.8192\n",
            "Epoch 6/10\n",
            "25000/25000 [==============================] - 546s 22ms/step - loss: 0.3661 - acc: 0.8418 - val_loss: 0.3603 - val_acc: 0.8492\n",
            "Epoch 7/10\n",
            "25000/25000 [==============================] - 548s 22ms/step - loss: 0.3713 - acc: 0.8376 - val_loss: 0.3440 - val_acc: 0.8483\n",
            "Epoch 8/10\n",
            "25000/25000 [==============================] - 541s 22ms/step - loss: 0.3332 - acc: 0.8577 - val_loss: 0.3209 - val_acc: 0.8612\n",
            "Epoch 9/10\n",
            "25000/25000 [==============================] - 548s 22ms/step - loss: 0.3186 - acc: 0.8634 - val_loss: 0.3216 - val_acc: 0.8627\n",
            "Epoch 10/10\n",
            "25000/25000 [==============================] - 548s 22ms/step - loss: 0.3000 - acc: 0.8739 - val_loss: 0.3116 - val_acc: 0.8673\n"
          ],
          "name": "stdout"
        },
        {
          "output_type": "execute_result",
          "data": {
            "text/plain": [
              "<keras.callbacks.History at 0x7f518f607b70>"
            ]
          },
          "metadata": {
            "tags": []
          },
          "execution_count": 27
        }
      ]
    }
  ]
}
